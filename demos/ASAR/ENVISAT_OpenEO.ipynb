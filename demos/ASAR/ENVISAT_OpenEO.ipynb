{
 "cells": [
  {
   "cell_type": "markdown",
   "metadata": {},
   "source": [
    "---\n",
    "title: \"Working with ERS_ENVISAT_NRB in OpenEO\"\n",
    "subtitle: \"This notebook demonstrates how openEO can be used to access and work with the ERS_ENVISAT_NRB collection. This dataset provides Analysis Ready Data (ARD) derived from ERS and ENVISAT missions. It includes Normalized Radar Backscatter (NRB) products, developed with an aim to be compliant with CEOS ARD specification.\"\n",
    "author: \"Author: eodc\"\n",
    "tags: [ASAR, openeo, ERS/Envisat]\n",
    "thumbnail: ../../style/Envisat.png\n",
    "license: MIT\n",
    "copyright: \"© 2024 eodc\"\n",
    "---\n"
   ]
  },
  {
   "cell_type": "markdown",
   "metadata": {},
   "source": [
    "To learn more about this collection, please visit [https://doi.org/10.57780/esa-qxqckwg](https://doi.org/10.57780/esa-qxqckwg)."
   ]
  },
  {
   "cell_type": "code",
   "execution_count": 1,
   "metadata": {},
   "outputs": [
    {
     "data": {
      "text/html": [
       "Visit <a href=\"https://aai.egi.eu/device?user_code=RGZH-KKZV\" title=\"Authenticate at https://aai.egi.eu/device?user_code=RGZH-KKZV\" target=\"_blank\" rel=\"noopener noreferrer\">https://aai.egi.eu/device?user_code=RGZH-KKZV</a> <a href=\"#\" onclick=\"navigator.clipboard.writeText('https://aai.egi.eu/device?user_code=RGZH-KKZV');return false;\" title=\"Copy authentication URL to clipboard\">&#128203;</a> to authenticate."
      ]
     },
     "metadata": {},
     "output_type": "display_data"
    },
    {
     "data": {
      "text/html": [
       "✅ Authorized successfully"
      ]
     },
     "metadata": {},
     "output_type": "display_data"
    },
    {
     "name": "stdout",
     "output_type": "stream",
     "text": [
      "Authenticated using device code flow.\n"
     ]
    }
   ],
   "source": [
    "from openeo.processes import *\n",
    "\n",
    "conn = openeo.connect(\"openeo.eodc.eu\").authenticate_oidc()"
   ]
  },
  {
   "cell_type": "markdown",
   "metadata": {},
   "source": [
    "**Describe the ERS_ENVISAT_NRB Collection**"
   ]
  },
  {
   "cell_type": "code",
   "execution_count": null,
   "metadata": {},
   "outputs": [],
   "source": [
    "conn.describe_collection(\"ERS_ENVISAT_NRB\")"
   ]
  },
  {
   "cell_type": "markdown",
   "metadata": {},
   "source": [
    "## Temporal extent for consideration\n",
    "\n",
    "In this example, we will take the extent of Austria, and see what data is available on the given week: 2012-04-01.\n"
   ]
  },
  {
   "cell_type": "code",
   "execution_count": 54,
   "metadata": {},
   "outputs": [],
   "source": [
    "spatial_extent  = { \"west\": 9.517427437357648, \"east\": 16.97391483499953, \"south\": 46.46453479610278, \"north\": 49.11935961580326 }\n",
    "\n",
    "temporal_extent = [\"2012-04-01\", \"2012-04-07\"]\n",
    "collection      = 'ERS_ENVISAT_NRB'\n",
    "\n",
    "envisat_data = conn.load_collection(\n",
    "    collection, \n",
    "    spatial_extent=spatial_extent, \n",
    "    temporal_extent=temporal_extent, \n",
    "    bands = [\"hh\"]\n",
    ")\n",
    "\n",
    "envisat_cogs = envisat_data.save_result(format=\"GTiff\")"
   ]
  },
  {
   "cell_type": "code",
   "execution_count": 55,
   "metadata": {},
   "outputs": [],
   "source": [
    "job = envisat_cogs.create_job(title = \"Download_Envisat\").start_job()"
   ]
  },
  {
   "cell_type": "code",
   "execution_count": 60,
   "metadata": {},
   "outputs": [
    {
     "data": {
      "text/plain": [
       "'finished'"
      ]
     },
     "execution_count": 60,
     "metadata": {},
     "output_type": "execute_result"
    }
   ],
   "source": [
    "job.status()"
   ]
  },
  {
   "cell_type": "code",
   "execution_count": 61,
   "metadata": {},
   "outputs": [
    {
     "data": {
      "text/html": [
       "\n",
       "    <script>\n",
       "    if (!window.customElements || !window.customElements.get('openeo-collection')) {\n",
       "        var el = document.createElement('script');\n",
       "        el.src = \"https://cdn.jsdelivr.net/npm/@openeo/vue-components@2/assets/openeo.min.js\";\n",
       "        document.head.appendChild(el);\n",
       "\n",
       "        var font = document.createElement('font');\n",
       "        font.as = \"font\";\n",
       "        font.type = \"font/woff2\";\n",
       "        font.crossOrigin = true;\n",
       "        font.href = \"https://use.fontawesome.com/releases/v5.13.0/webfonts/fa-solid-900.woff2\"\n",
       "        document.head.appendChild(font);\n",
       "    }\n",
       "    </script>\n",
       "    <openeo-collection>\n",
       "        <script type=\"application/json\">{\"mapOptions\": {}, \"data\": {\"stac_version\": \"1.0.0\", \"stac_extensions\": [], \"type\": \"Collection\", \"id\": \"8de99e1b-1a54-4c52-bed0-65aeb3a0a578\", \"description\": \"\", \"deprecated\": false, \"license\": \"proprietary\", \"providers\": [], \"extent\": {\"spatial\": {\"bbox\": [[16.3341, 47.7306, 16.974, 49.1193]]}, \"temporal\": {\"interval\": [[\"2012-04-03T09:05:39Z\", \"2012-04-03T09:05:39Z\"]]}}, \"links\": [{\"rel\": \"self\", \"href\": \"https://openeo.eodc.eu/openeo/1.2.0/jobs/8de99e1b-1a54-4c52-bed0-65aeb3a0a578/results\", \"type\": \"application/json\"}, {\"rel\": \"root\", \"href\": \"https://openeo.eodc.eu/openeo/1.2.0/jobs/8de99e1b-1a54-4c52-bed0-65aeb3a0a578/results\", \"type\": \"application/json\"}, {\"rel\": \"item\", \"href\": \"https://openeo.eodc.eu/openeo/1.2.0/jobs/8de99e1b-1a54-4c52-bed0-65aeb3a0a578/results\", \"type\": \"application/json\"}, {\"rel\": \"item\", \"href\": \"https://openeo.eodc.eu/openeo/1.2.0/jobs/8de99e1b-1a54-4c52-bed0-65aeb3a0a578/results\", \"type\": \"application/json\"}, {\"rel\": \"item\", \"href\": \"https://openeo.eodc.eu/openeo/1.2.0/jobs/8de99e1b-1a54-4c52-bed0-65aeb3a0a578/results\", \"type\": \"application/json\"}, {\"rel\": \"canonical\", \"href\": \"https://openeo.eodc.eu/openeo/1.2.0/jobs/8de99e1b-1a54-4c52-bed0-65aeb3a0a578/results?Expires=1750337520&KeyName=SIGN_KEY_1&UserId=5773f569-6696-4692-9f76-4430ec2695e9&Signature=DOimICpLS1KEAXmpzC71VpEIaO0=\"}, {\"rel\": \"items\", \"href\": \"https://openeo.eodc.eu/openeo/1.2.0/jobs/8de99e1b-1a54-4c52-bed0-65aeb3a0a578/results/items?Expires=1750337520&KeyName=SIGN_KEY_1&UserId=5773f569-6696-4692-9f76-4430ec2695e9&Signature=A9RPlQG8YMqdBriPR36FQQT2C-U=\"}], \"summaries\": {\"processing:expression\": [\"https://openeo.eodc.eu/openeo/1.2.0/jobs/8de99e1b-1a54-4c52-bed0-65aeb3a0a578/results/process?Expires=1750337520&KeyName=SIGN_KEY_1&UserId=5773f569-6696-4692-9f76-4430ec2695e9&Signature=WTsO8lJlaCytBQu2V14wmqYfIjE=\"], \"datetime\": [[\"min\", \"2012-04-03 09:05:39+00:00\"], [\"max\", \"2012-04-03 09:05:39+00:00\"]]}, \"assets\": {\"WGS84_E16N48_20120403T090539.tif\": {\"href\": \"https://openeo.eodc.eu/openeo/1.2.0/files/8de99e1b-1a54-4c52-bed0-65aeb3a0a578/OPENEO/results/WGS84_E16N48_20120403T090539.tif?Expires=1750337520&KeyName=SIGN_KEY_1&UserId=5773f569-6696-4692-9f76-4430ec2695e9&Signature=83Y60-nYaWcgxDGVJbvzt3Nx7Jw=\", \"title\": \"WGS84_E16N48_20120403T090539\", \"proj:epsg\": 4326, \"roles\": [\"data\"]}, \"WGS84_E16N49_20120403T090539.tif\": {\"href\": \"https://openeo.eodc.eu/openeo/1.2.0/files/8de99e1b-1a54-4c52-bed0-65aeb3a0a578/OPENEO/results/WGS84_E16N49_20120403T090539.tif?Expires=1750337520&KeyName=SIGN_KEY_1&UserId=5773f569-6696-4692-9f76-4430ec2695e9&Signature=INbguKfa7dImNvO2dfXNXQ9Y3LA=\", \"title\": \"WGS84_E16N49_20120403T090539\", \"proj:epsg\": 4326, \"roles\": [\"data\"]}, \"WGS84_E16N47_20120403T090539.tif\": {\"href\": \"https://openeo.eodc.eu/openeo/1.2.0/files/8de99e1b-1a54-4c52-bed0-65aeb3a0a578/OPENEO/results/WGS84_E16N47_20120403T090539.tif?Expires=1750337520&KeyName=SIGN_KEY_1&UserId=5773f569-6696-4692-9f76-4430ec2695e9&Signature=KGI_aF67fyCFZns-8XXcNpjoWi0=\", \"title\": \"WGS84_E16N47_20120403T090539\", \"proj:epsg\": 4326, \"roles\": [\"data\"]}}, \"openeo:status\": \"finished\"}}</script>\n",
       "    </openeo-collection>\n",
       "    "
      ],
      "text/plain": [
       "<JobResults for job '8de99e1b-1a54-4c52-bed0-65aeb3a0a578'>"
      ]
     },
     "execution_count": 61,
     "metadata": {},
     "output_type": "execute_result"
    }
   ],
   "source": [
    "results = job.get_results()\n",
    "results"
   ]
  },
  {
   "cell_type": "code",
   "execution_count": 63,
   "metadata": {},
   "outputs": [
    {
     "data": {
      "text/plain": [
       "[PosixPath('output/WGS84_E16N48_20120403T090539.tif'),\n",
       " PosixPath('output/WGS84_E16N49_20120403T090539.tif'),\n",
       " PosixPath('output/WGS84_E16N47_20120403T090539.tif'),\n",
       " PosixPath('output/job-results.json')]"
      ]
     },
     "execution_count": 63,
     "metadata": {},
     "output_type": "execute_result"
    }
   ],
   "source": [
    "results.download_files(\"./output\")"
   ]
  },
  {
   "cell_type": "code",
   "execution_count": null,
   "metadata": {},
   "outputs": [],
   "source": []
  }
 ],
 "metadata": {
  "kernelspec": {
   "display_name": ".venv",
   "language": "python",
   "name": "python3"
  },
  "language_info": {
   "codemirror_mode": {
    "name": "ipython",
    "version": 3
   },
   "file_extension": ".py",
   "mimetype": "text/x-python",
   "name": "python",
   "nbconvert_exporter": "python",
   "pygments_lexer": "ipython3",
   "version": "3.11.12"
  }
 },
 "nbformat": 4,
 "nbformat_minor": 2
}
